{
 "cells": [
  {
   "cell_type": "code",
   "execution_count": 26,
   "metadata": {},
   "outputs": [],
   "source": [
    "import time\n",
    "import matplotlib.pyplot as plt\n",
    "import numpy as np\n",
    "import random\n",
    "import os\n",
    "import sounddevice as sd\n",
    "import soundfile as sf\n",
    "\n",
    "# from brainflow.board_shim import BoardShim, BrainFlowInputParams, BoardIds, BrainFlowPresets\n"
   ]
  },
  {
   "cell_type": "code",
   "execution_count": 27,
   "metadata": {},
   "outputs": [],
   "source": [
    "def get_random_clip_file(genre: str) -> str:\n",
    "    i = random.randint(0, 9)\n",
    "    return os.path.join(\"genre_clip_data\", genre, f'{genre}.0000{i}.wav')"
   ]
  },
  {
   "cell_type": "code",
   "execution_count": 30,
   "metadata": {},
   "outputs": [],
   "source": [
    "def play_random_clip_file(genre: str) -> None:\n",
    "    data, fs = sf.read(get_random_clip_file(genre), dtype='float32')\n",
    "    sd.play(data, fs)"
   ]
  },
  {
   "cell_type": "code",
   "execution_count": 31,
   "metadata": {},
   "outputs": [],
   "source": [
    "play_random_clip_file(\"hiphop\")"
   ]
  },
  {
   "cell_type": "code",
   "execution_count": 32,
   "metadata": {},
   "outputs": [
    {
     "ename": "NameError",
     "evalue": "name 'BoardShim' is not defined",
     "output_type": "error",
     "traceback": [
      "\u001b[1;31m---------------------------------------------------------------------------\u001b[0m",
      "\u001b[1;31mNameError\u001b[0m                                 Traceback (most recent call last)",
      "Cell \u001b[1;32mIn[32], line 2\u001b[0m\n\u001b[0;32m      1\u001b[0m \u001b[38;5;66;03m# prepare device\u001b[39;00m\n\u001b[1;32m----> 2\u001b[0m \u001b[43mBoardShim\u001b[49m\u001b[38;5;241m.\u001b[39menable_dev_board_logger()\n\u001b[0;32m      4\u001b[0m board_id \u001b[38;5;241m=\u001b[39m \u001b[38;5;241m0\u001b[39m\n\u001b[0;32m      5\u001b[0m serial_port \u001b[38;5;241m=\u001b[39m \u001b[38;5;124m\"\u001b[39m\u001b[38;5;124mCOM4\u001b[39m\u001b[38;5;124m\"\u001b[39m\n",
      "\u001b[1;31mNameError\u001b[0m: name 'BoardShim' is not defined"
     ]
    }
   ],
   "source": [
    "# prepare device\n",
    "BoardShim.enable_dev_board_logger()\n",
    "\n",
    "board_id = 0\n",
    "serial_port = \"COM4\"\n",
    "\n",
    "params = BrainFlowInputParams()\n",
    "params.serial_port = serial_port\n",
    "board = BoardShim(board_id, params)\n",
    "board.prepare_session()\n",
    "board.get_sampling_rate(board_id)   # per second, presumably"
   ]
  },
  {
   "cell_type": "code",
   "execution_count": null,
   "metadata": {},
   "outputs": [],
   "source": []
  }
 ],
 "metadata": {
  "kernelspec": {
   "display_name": ".venv",
   "language": "python",
   "name": "python3"
  },
  "language_info": {
   "codemirror_mode": {
    "name": "ipython",
    "version": 3
   },
   "file_extension": ".py",
   "mimetype": "text/x-python",
   "name": "python",
   "nbconvert_exporter": "python",
   "pygments_lexer": "ipython3",
   "version": "3.11.4"
  }
 },
 "nbformat": 4,
 "nbformat_minor": 2
}
