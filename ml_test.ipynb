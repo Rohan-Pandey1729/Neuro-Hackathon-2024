{
 "cells": [
  {
   "cell_type": "code",
   "execution_count": 22,
   "metadata": {},
   "outputs": [],
   "source": [
    "import argparse\n",
    "import time\n",
    "import matplotlib.pyplot as plt\n",
    "import numpy as np\n",
    "import pandas as pd\n",
    "import optparse\n",
    "from dotenv import load_dotenv\n",
    "import pickle\n",
    "\n",
    "from brainflow.board_shim import BoardShim, BrainFlowInputParams, BoardIds, BrainFlowPresets\n",
    "from brainflow import ml_model\n",
    "from brainflow.ml_model import *\n"
   ]
  },
  {
   "cell_type": "code",
   "execution_count": 33,
   "metadata": {},
   "outputs": [],
   "source": [
    "def get_data():\n",
    "    load_dotenv()\n",
    "\n",
    "    BoardShim.enable_dev_board_logger()\n",
    "\n",
    "    board_id = 0\n",
    "    serial_port = os.getenv(\"SERIAL_PORT\")\n",
    "\n",
    "    params = BrainFlowInputParams()\n",
    "    params.serial_port = serial_port\n",
    "    board = BoardShim(board_id, params)\n",
    "    board.prepare_session()\n",
    "    sampling_rate = board.get_sampling_rate(board_id)   # per second, presumably\n",
    "\n",
    "    board.start_stream()\n",
    "    t = 11\n",
    "    time.sleep(t)\n",
    "    # data = board.get_current_board_data (256) # get latest 256 packages or less, doesnt remove them from internal buffer\n",
    "    data = board.get_board_data()  # get all data and remove it from internal buffer\n",
    "    board.stop_stream()\n",
    "    board.release_session()\n",
    "\n",
    "    return sampling_rate, data"
   ]
  },
  {
   "cell_type": "code",
   "execution_count": 138,
   "metadata": {},
   "outputs": [],
   "source": [
    "_, data = get_data()"
   ]
  },
  {
   "cell_type": "code",
   "execution_count": 139,
   "metadata": {},
   "outputs": [
    {
     "name": "stdout",
     "output_type": "stream",
     "text": [
      "[[0.58540579 0.41459421]]\n"
     ]
    },
    {
     "data": {
      "text/plain": [
       "array([0.])"
      ]
     },
     "execution_count": 139,
     "metadata": {},
     "output_type": "execute_result"
    }
   ],
   "source": [
    "\n",
    "# d2 = data[1:8, -2406:]\n",
    "d2 = data[1:8, :2406]\n",
    "dfft =  np.fft.fft(d2).view(np.float64).reshape(7, 2406, 2)\n",
    "dfft.shape\n",
    "model = pickle.load(open(\"finalized_model_l1_C=1e-7.sav\", 'rb'))\n",
    "print(model.predict_proba(dfft.reshape(1, -1)))\n",
    "model.predict(dfft.reshape(1, -1))"
   ]
  },
  {
   "cell_type": "code",
   "execution_count": null,
   "metadata": {},
   "outputs": [],
   "source": []
  },
  {
   "cell_type": "code",
   "execution_count": 84,
   "metadata": {},
   "outputs": [
    {
     "data": {
      "text/plain": [
       "array([[ 8.99934876e+03,  2.78775427e+03,  3.30135266e+03, ...,\n",
       "         6.31430075e+03,  4.33500908e+03,  6.19067325e+03],\n",
       "       [-4.63644470e+03, -1.26381233e+03, -1.35556178e+04, ...,\n",
       "        -1.92106538e+03, -1.33704559e+04, -2.13394339e+03],\n",
       "       [ 5.33942942e+03,  4.07939453e+03,  5.44061577e+03, ...,\n",
       "         8.95681339e+03,  4.66713365e+03,  8.87940930e+03],\n",
       "       ...,\n",
       "       [ 7.03474218e+03,  1.94460177e+00,  7.40468590e+03, ...,\n",
       "         1.01908308e+03,  7.85031263e+03,  8.75294313e+02],\n",
       "       [ 4.62707932e+03,  2.29076323e+03, -2.57429511e+03, ...,\n",
       "         5.32112334e+03, -2.63397427e+03,  5.18459889e+03],\n",
       "       [ 4.29354659e+02,  8.92751025e+02, -2.36233352e+03, ...,\n",
       "         2.58607448e+03, -3.02007830e+03,  2.44845479e+03]])"
      ]
     },
     "execution_count": 84,
     "metadata": {},
     "output_type": "execute_result"
    }
   ],
   "source": [
    "d2"
   ]
  },
  {
   "cell_type": "code",
   "execution_count": null,
   "metadata": {},
   "outputs": [],
   "source": []
  }
 ],
 "metadata": {
  "kernelspec": {
   "display_name": ".venv",
   "language": "python",
   "name": "python3"
  },
  "language_info": {
   "codemirror_mode": {
    "name": "ipython",
    "version": 3
   },
   "file_extension": ".py",
   "mimetype": "text/x-python",
   "name": "python",
   "nbconvert_exporter": "python",
   "pygments_lexer": "ipython3",
   "version": "3.11.4"
  }
 },
 "nbformat": 4,
 "nbformat_minor": 2
}
