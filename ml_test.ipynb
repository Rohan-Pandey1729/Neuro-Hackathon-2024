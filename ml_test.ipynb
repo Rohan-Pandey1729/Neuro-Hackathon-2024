{
 "cells": [
  {
   "cell_type": "code",
   "execution_count": 22,
   "metadata": {},
   "outputs": [],
   "source": [
    "import argparse\n",
    "import time\n",
    "import matplotlib.pyplot as plt\n",
    "import numpy as np\n",
    "import pandas as pd\n",
    "import optparse\n",
    "from dotenv import load_dotenv\n",
    "import pickle\n",
    "\n",
    "from brainflow.board_shim import BoardShim, BrainFlowInputParams, BoardIds, BrainFlowPresets\n",
    "from brainflow import ml_model\n",
    "from brainflow.ml_model import *\n"
   ]
  },
  {
   "cell_type": "code",
   "execution_count": 33,
   "metadata": {},
   "outputs": [],
   "source": [
    "def get_data():\n",
    "    load_dotenv()\n",
    "\n",
    "    BoardShim.enable_dev_board_logger()\n",
    "\n",
    "    board_id = 0\n",
    "    serial_port = os.getenv(\"SERIAL_PORT\")\n",
    "\n",
    "    params = BrainFlowInputParams()\n",
    "    params.serial_port = serial_port\n",
    "    board = BoardShim(board_id, params)\n",
    "    board.prepare_session()\n",
    "    sampling_rate = board.get_sampling_rate(board_id)   # per second, presumably\n",
    "\n",
    "    board.start_stream()\n",
    "    t = 11\n",
    "    time.sleep(t)\n",
    "    # data = board.get_current_board_data (256) # get latest 256 packages or less, doesnt remove them from internal buffer\n",
    "    data = board.get_board_data()  # get all data and remove it from internal buffer\n",
    "    board.stop_stream()\n",
    "    board.release_session()\n",
    "\n",
    "    return sampling_rate, data"
   ]
  },
  {
   "cell_type": "code",
   "execution_count": 35,
   "metadata": {},
   "outputs": [
    {
     "ename": "BrainFlowError",
     "evalue": "BOARD_NOT_READY_ERROR:7 unable to prepare streaming session",
     "output_type": "error",
     "traceback": [
      "\u001b[1;31m---------------------------------------------------------------------------\u001b[0m",
      "\u001b[1;31mBrainFlowError\u001b[0m                            Traceback (most recent call last)",
      "Cell \u001b[1;32mIn[35], line 1\u001b[0m\n\u001b[1;32m----> 1\u001b[0m data \u001b[38;5;241m=\u001b[39m \u001b[43mget_data\u001b[49m\u001b[43m(\u001b[49m\u001b[43m)\u001b[49m\n",
      "Cell \u001b[1;32mIn[33], line 12\u001b[0m, in \u001b[0;36mget_data\u001b[1;34m()\u001b[0m\n\u001b[0;32m     10\u001b[0m params\u001b[38;5;241m.\u001b[39mserial_port \u001b[38;5;241m=\u001b[39m serial_port\n\u001b[0;32m     11\u001b[0m board \u001b[38;5;241m=\u001b[39m BoardShim(board_id, params)\n\u001b[1;32m---> 12\u001b[0m \u001b[43mboard\u001b[49m\u001b[38;5;241;43m.\u001b[39;49m\u001b[43mprepare_session\u001b[49m\u001b[43m(\u001b[49m\u001b[43m)\u001b[49m\n\u001b[0;32m     13\u001b[0m sampling_rate \u001b[38;5;241m=\u001b[39m board\u001b[38;5;241m.\u001b[39mget_sampling_rate(board_id)   \u001b[38;5;66;03m# per second, presumably\u001b[39;00m\n\u001b[0;32m     15\u001b[0m board\u001b[38;5;241m.\u001b[39mstart_stream()\n",
      "File \u001b[1;32mc:\\Users\\raych\\Documents\\hackathons\\neurotech\\openbci2\\.venv\\Lib\\site-packages\\brainflow\\board_shim.py:1190\u001b[0m, in \u001b[0;36mBoardShim.prepare_session\u001b[1;34m(self)\u001b[0m\n\u001b[0;32m   1188\u001b[0m res \u001b[38;5;241m=\u001b[39m BoardControllerDLL\u001b[38;5;241m.\u001b[39mget_instance()\u001b[38;5;241m.\u001b[39mprepare_session(\u001b[38;5;28mself\u001b[39m\u001b[38;5;241m.\u001b[39mboard_id, \u001b[38;5;28mself\u001b[39m\u001b[38;5;241m.\u001b[39minput_json)\n\u001b[0;32m   1189\u001b[0m \u001b[38;5;28;01mif\u001b[39;00m res \u001b[38;5;241m!=\u001b[39m BrainFlowExitCodes\u001b[38;5;241m.\u001b[39mSTATUS_OK\u001b[38;5;241m.\u001b[39mvalue:\n\u001b[1;32m-> 1190\u001b[0m     \u001b[38;5;28;01mraise\u001b[39;00m BrainFlowError(\u001b[38;5;124m'\u001b[39m\u001b[38;5;124munable to prepare streaming session\u001b[39m\u001b[38;5;124m'\u001b[39m, res)\n",
      "\u001b[1;31mBrainFlowError\u001b[0m: BOARD_NOT_READY_ERROR:7 unable to prepare streaming session"
     ]
    }
   ],
   "source": [
    "data = get_data()"
   ]
  },
  {
   "cell_type": "code",
   "execution_count": 20,
   "metadata": {},
   "outputs": [],
   "source": [
    "d2 = data[1:8, :2406]"
   ]
  },
  {
   "cell_type": "code",
   "execution_count": 23,
   "metadata": {},
   "outputs": [],
   "source": [
    "dfft =  np.fft.fft(d2).view(np.float64).reshape(7, 2406, 2)"
   ]
  },
  {
   "cell_type": "code",
   "execution_count": 24,
   "metadata": {},
   "outputs": [
    {
     "data": {
      "text/plain": [
       "(7, 2406, 2)"
      ]
     },
     "execution_count": 24,
     "metadata": {},
     "output_type": "execute_result"
    }
   ],
   "source": [
    "dfft.shape"
   ]
  },
  {
   "cell_type": "code",
   "execution_count": 29,
   "metadata": {},
   "outputs": [],
   "source": [
    "model = pickle.load(open(\"finalized_model.sav\", 'rb'))"
   ]
  },
  {
   "cell_type": "code",
   "execution_count": 32,
   "metadata": {},
   "outputs": [
    {
     "data": {
      "text/plain": [
       "array([1.])"
      ]
     },
     "execution_count": 32,
     "metadata": {},
     "output_type": "execute_result"
    }
   ],
   "source": [
    "model.predict(dfft.reshape(1, -1))"
   ]
  },
  {
   "cell_type": "code",
   "execution_count": null,
   "metadata": {},
   "outputs": [],
   "source": []
  }
 ],
 "metadata": {
  "kernelspec": {
   "display_name": ".venv",
   "language": "python",
   "name": "python3"
  },
  "language_info": {
   "codemirror_mode": {
    "name": "ipython",
    "version": 3
   },
   "file_extension": ".py",
   "mimetype": "text/x-python",
   "name": "python",
   "nbconvert_exporter": "python",
   "pygments_lexer": "ipython3",
   "version": "3.11.4"
  }
 },
 "nbformat": 4,
 "nbformat_minor": 2
}
