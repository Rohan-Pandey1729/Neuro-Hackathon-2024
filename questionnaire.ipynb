{
 "cells": [
  {
   "cell_type": "code",
   "execution_count": 4,
   "metadata": {},
   "outputs": [],
   "source": [
    "def questions():\n",
    "    genres = [\n",
    "        \"blues\", \"classical\", \"country\", \"disco\", \"hiphop\",\n",
    "        \"jazz\", \"metal\", \"pop\", \"reggae\", \"rock\"\n",
    "    ]\n",
    "\n",
    "\n",
    "    pace_preference = input(\"Do you prefer fast-paced music or slow-paced music? (Type 'fast' or 'slow'): \")\n",
    "\n",
    "\n",
    "    instrumental_preference = input(\"Do you prefer instrumental music or songs with lyrics? (Type 'instrumental' or 'lyrics'): \")\n",
    "\n",
    "    beat_preference = input(\"Do you prefer music with heavy beats or more melodic tunes? (Type 'heavy beats' or 'melodic'): \")\n",
    "\n",
    "\n",
    "    energy_preference = input(\"Would you rather listen to music that energizes you or music that helps you relax? (Type 'energizing' or 'relaxing'): \")\n",
    "\n",
    "\n",
    "    genre_mappings = {\n",
    "        ('fast', 'heavy beats', 'instrumental', 'energizing'): {\"disco\", \"hiphop\", \"metal\"},\n",
    "        ('fast', 'heavy beats', 'instrumental', 'relaxing'): {\"pop\", \"jazz\", \"classical\"},\n",
    "        ('fast', 'melodic', 'lyrics', 'energizing'): {\"disco\", \"pop\", \"hiphop\"},\n",
    "        ('fast', 'melodic', 'lyrics', 'relaxing'): {\"pop\", \"classical\", \"jazz\"},\n",
    "        ('slow', 'heavy beats', 'instrumental', 'energizing'): {\"reggae\", \"jazz\", \"metal\"},\n",
    "        ('slow', 'heavy beats', 'instrumental', 'relaxing'): {\"classical\", \"jazz\", \"reggae\"},\n",
    "        ('slow', 'melodic', 'lyrics', 'energizing'): {\"reggae\", \"hiphop\", \"jazz\"},\n",
    "        ('slow', 'melodic', 'lyrics', 'relaxing'): {\"reggae\", \"classical\", \"jazz\"}\n",
    "    }\n",
    "\n",
    "\n",
    "    genre_count = {genre: 0 for genre in genres}\n",
    "\n",
    "    for preference_set, genre_set in genre_mappings.items():\n",
    "        if (pace_preference, beat_preference, instrumental_preference, energy_preference) == preference_set:\n",
    "            for genre in genre_set:\n",
    "                genre_count[genre] += 1\n",
    "\n",
    "\n",
    "    sorted_genres = sorted(genre_count.keys(), key=lambda x: genre_count[x], reverse=True)\n",
    "\n",
    "\n",
    "    top_three_genres = set(sorted_genres[:3])\n",
    "    return top_three_genres"
   ]
  },
  {
   "cell_type": "code",
   "execution_count": 5,
   "metadata": {},
   "outputs": [
    {
     "data": {
      "text/plain": [
       "{'blues', 'classical', 'country'}"
      ]
     },
     "execution_count": 5,
     "metadata": {},
     "output_type": "execute_result"
    }
   ],
   "source": [
    "questions()"
   ]
  },
  {
   "cell_type": "code",
   "execution_count": null,
   "metadata": {},
   "outputs": [],
   "source": []
  }
 ],
 "metadata": {
  "kernelspec": {
   "display_name": ".venv",
   "language": "python",
   "name": "python3"
  },
  "language_info": {
   "codemirror_mode": {
    "name": "ipython",
    "version": 3
   },
   "file_extension": ".py",
   "mimetype": "text/x-python",
   "name": "python",
   "nbconvert_exporter": "python",
   "pygments_lexer": "ipython3",
   "version": "3.11.1"
  }
 },
 "nbformat": 4,
 "nbformat_minor": 2
}
